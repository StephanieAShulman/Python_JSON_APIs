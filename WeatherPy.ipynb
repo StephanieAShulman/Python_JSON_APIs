{
 "cells": [
  {
   "cell_type": "markdown",
   "id": "b558433c",
   "metadata": {},
   "source": [
    "# WeatherPy"
   ]
  },
  {
   "cell_type": "markdown",
   "id": "21e0252e",
   "metadata": {},
   "source": [
    "## Generate Random Latitudes & Longitudes"
   ]
  },
  {
   "cell_type": "markdown",
   "id": "c952e187",
   "metadata": {},
   "source": [
    "Prior work:\n",
    "- Generate random numbers by testing random.random(), random.randint(), random.randrange(), random.unique()\\\n",
    "   *See random_numbers.ipynb*\n",
    "- Applied to a size run of 50 randomly generated numbers; timing improved (using %timeit magic command)\\\n",
    "   *In comparison to while loop, np.random.uniform(-90,90,size=1500) faster*"
   ]
  },
  {
   "cell_type": "markdown",
   "id": "48b422f8",
   "metadata": {},
   "source": [
    "### SKILL DRILL\n",
    "Refactor the code for the while loop with the %timeit magic command and write a for loop that will generate 1500 latitudes."
   ]
  },
  {
   "cell_type": "code",
   "execution_count": 20,
   "id": "c05203e6",
   "metadata": {},
   "outputs": [],
   "source": [
    "#def latitudes(size):\n",
    "#    latitudes = []\n",
    "#    x = 0\n",
    "#    for x in range(0,1501):\n",
    "#        random_lat = random.randint(-90, 90) + random.random()\n",
    "#        latitudes.append(random_lat)\n",
    "#        x += 1\n",
    "#    return latitudes\n",
    "\n",
    "# Call the function with 1500\n",
    "#%timeit latitudes(1500)"
   ]
  },
  {
   "cell_type": "markdown",
   "id": "496a3f32",
   "metadata": {},
   "source": [
    "### Create Latitude & Longitude Combinations"
   ]
  },
  {
   "cell_type": "code",
   "execution_count": 21,
   "id": "cba611a5",
   "metadata": {},
   "outputs": [],
   "source": [
    "# Import dependencies\n",
    "import pandas as pd\n",
    "import matplotlib.pyplot as plt\n",
    "import numpy as np"
   ]
  },
  {
   "cell_type": "code",
   "execution_count": 23,
   "id": "5f0b78bd",
   "metadata": {},
   "outputs": [
    {
     "data": {
      "text/plain": [
       "<zip at 0x156bf02a548>"
      ]
     },
     "execution_count": 23,
     "metadata": {},
     "output_type": "execute_result"
    }
   ],
   "source": [
    "# Create arrays (declare as variables) of latitudes and longitudes for storing data\n",
    "#  Generate random combinations\n",
    "lats = np.random.uniform(low = -90.000, high = 90.000, size = 1500)\n",
    "lngs = np.random.uniform(low = -180.000, high = 180.000, size = 1500)\n",
    "# Pack as pairs by zipping them\n",
    "lat_lngs = zip(lats, lngs)\n",
    "# Printed: zip object in memory\n",
    "lat_lngs"
   ]
  },
  {
   "cell_type": "markdown",
   "id": "44820492",
   "metadata": {},
   "source": [
    "See the API_practice.ipynb notebook for practice packing/unpacking the tuple."
   ]
  },
  {
   "cell_type": "code",
   "execution_count": 24,
   "id": "19350b14",
   "metadata": {},
   "outputs": [],
   "source": [
    "# Unpack lat_lngs zip object into a list so that the set of random latitudes and longitudes is created once only.\n",
    "# Add the latitudes and longitudes to a list.\n",
    "coordinates = list(lat_lngs)"
   ]
  },
  {
   "cell_type": "markdown",
   "id": "139c59cc",
   "metadata": {},
   "source": [
    "##### NOTE: You can only unzip a zipped tuple once before it is removed from the computer's memory.\n",
    "Make sure to unzip the latitudes and longitudes into the coordinates list before moving on."
   ]
  },
  {
   "cell_type": "code",
   "execution_count": 26,
   "id": "bb571577",
   "metadata": {},
   "outputs": [],
   "source": [
    "# coordinates - displays"
   ]
  },
  {
   "cell_type": "markdown",
   "id": "35d35185",
   "metadata": {},
   "source": [
    "## Generate Random World Cities"
   ]
  },
  {
   "cell_type": "markdown",
   "id": "d83b0a74",
   "metadata": {},
   "source": [
    "Need to import the CitiPy module using pip install citipy per [citypy documentation](https://pypi.org/project/citipy/).\\\n",
    "  See the Homepage of the link or go directly to the [GitHub citipy repository](https://github.com/wingchen/citipy) for details."
   ]
  },
  {
   "cell_type": "code",
   "execution_count": 27,
   "id": "be3d716a",
   "metadata": {},
   "outputs": [],
   "source": [
    "# Use the citipy module to determine city based on latitude and longitude.\n",
    "# Note: A python file imported into another python script does not require the .py extension be added during import.\n",
    "from citipy import citipy"
   ]
  },
  {
   "cell_type": "code",
   "execution_count": 30,
   "id": "8b7eb136",
   "metadata": {},
   "outputs": [],
   "source": [
    "# Use five pairs of lat/lng from the zip file to practice getting city and coutnry code from the citipy module.\n",
    "\n",
    "# Use the tuple() fxn to display the lat and lng combinations \n",
    "#for coordinate in coordinates:\n",
    "#    print(citipy.nearest_city(coordinate[0], coordinate[1]).city_name,\n",
    "#          citipy.nearest_city(coordinate[0], coordinate[1]).country_code)\n",
    "\n",
    "# MUTED - many more than 5 displayed; codes match"
   ]
  },
  {
   "cell_type": "markdown",
   "id": "5b4f6ea9",
   "metadata": {},
   "source": [
    "The citipy module finds the nearest city to the lat/lng pair with a population of 500 or more.\\\n",
    "  When the block code is run, there should be more than 500 unique cities. If there are fewer, increase the size limit on np.random.uniform()."
   ]
  },
  {
   "cell_type": "code",
   "execution_count": 31,
   "id": "a97fb311",
   "metadata": {},
   "outputs": [
    {
     "data": {
      "text/plain": [
       "611"
      ]
     },
     "execution_count": 31,
     "metadata": {},
     "output_type": "execute_result"
    }
   ],
   "source": [
    "# Create a list for holding the citites\n",
    "cities = []\n",
    "# Identify the nearest city for each lat and lng combination\n",
    "for coordinate in coordinates:\n",
    "    city = citipy.nearest_city(coordinate[0], coordinate[1]).city_name\n",
    "    \n",
    "    # If the city is unique then add it to the cities list (note: there may be duplicates, so need 'unique')\n",
    "    if city not in cities:\n",
    "        cities.append(city)\n",
    "        \n",
    "# Print the city count to confirm sufficient number of cities\n",
    "len(cities)"
   ]
  },
  {
   "cell_type": "code",
   "execution_count": null,
   "id": "348ccebf",
   "metadata": {},
   "outputs": [],
   "source": []
  }
 ],
 "metadata": {
  "kernelspec": {
   "display_name": "PythonData",
   "language": "python",
   "name": "pythondata"
  },
  "language_info": {
   "codemirror_mode": {
    "name": "ipython",
    "version": 3
   },
   "file_extension": ".py",
   "mimetype": "text/x-python",
   "name": "python",
   "nbconvert_exporter": "python",
   "pygments_lexer": "ipython3",
   "version": "3.7.11"
  }
 },
 "nbformat": 4,
 "nbformat_minor": 5
}
