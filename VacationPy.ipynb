{
 "cells": [
  {
   "cell_type": "markdown",
   "id": "703fd2c6",
   "metadata": {},
   "source": [
    "# VacationPy"
   ]
  },
  {
   "cell_type": "markdown",
   "id": "3692e714",
   "metadata": {},
   "source": [
    "## Heatmaps for Weather Parameters"
   ]
  },
  {
   "cell_type": "code",
   "execution_count": 1,
   "id": "af1eb952",
   "metadata": {},
   "outputs": [],
   "source": [
    "# Import dependencies\n",
    "import pandas as pd       # reads csv, does math\n",
    "import gmaps              # create maps\n",
    "import requests           # make requests to Google Places JSON file\n",
    "\n",
    "# Import the API key.\n",
    "from config import g_key  # access Google Places"
   ]
  },
  {
   "cell_type": "code",
   "execution_count": 2,
   "id": "77d4e425",
   "metadata": {},
   "outputs": [
    {
     "data": {
      "text/html": [
       "<div>\n",
       "<style scoped>\n",
       "    .dataframe tbody tr th:only-of-type {\n",
       "        vertical-align: middle;\n",
       "    }\n",
       "\n",
       "    .dataframe tbody tr th {\n",
       "        vertical-align: top;\n",
       "    }\n",
       "\n",
       "    .dataframe thead th {\n",
       "        text-align: right;\n",
       "    }\n",
       "</style>\n",
       "<table border=\"1\" class=\"dataframe\">\n",
       "  <thead>\n",
       "    <tr style=\"text-align: right;\">\n",
       "      <th></th>\n",
       "      <th>City_ID</th>\n",
       "      <th>City</th>\n",
       "      <th>Country</th>\n",
       "      <th>Date</th>\n",
       "      <th>Lat</th>\n",
       "      <th>Lng</th>\n",
       "      <th>Max Temp</th>\n",
       "      <th>Humidity</th>\n",
       "      <th>Cloudiness</th>\n",
       "      <th>Wind Speed</th>\n",
       "    </tr>\n",
       "  </thead>\n",
       "  <tbody>\n",
       "    <tr>\n",
       "      <th>0</th>\n",
       "      <td>0</td>\n",
       "      <td>Narsaq</td>\n",
       "      <td>GL</td>\n",
       "      <td>1/22/2022 12:32</td>\n",
       "      <td>60.9167</td>\n",
       "      <td>-46.0500</td>\n",
       "      <td>261.27</td>\n",
       "      <td>68</td>\n",
       "      <td>2</td>\n",
       "      <td>3.45</td>\n",
       "    </tr>\n",
       "    <tr>\n",
       "      <th>1</th>\n",
       "      <td>1</td>\n",
       "      <td>Kaeo</td>\n",
       "      <td>NZ</td>\n",
       "      <td>1/22/2022 12:27</td>\n",
       "      <td>-35.1000</td>\n",
       "      <td>173.7833</td>\n",
       "      <td>289.44</td>\n",
       "      <td>89</td>\n",
       "      <td>37</td>\n",
       "      <td>2.38</td>\n",
       "    </tr>\n",
       "    <tr>\n",
       "      <th>2</th>\n",
       "      <td>2</td>\n",
       "      <td>Lujan</td>\n",
       "      <td>AR</td>\n",
       "      <td>1/22/2022 12:30</td>\n",
       "      <td>-34.5703</td>\n",
       "      <td>-59.1050</td>\n",
       "      <td>298.05</td>\n",
       "      <td>88</td>\n",
       "      <td>99</td>\n",
       "      <td>6.35</td>\n",
       "    </tr>\n",
       "    <tr>\n",
       "      <th>3</th>\n",
       "      <td>3</td>\n",
       "      <td>Tyazhinskiy</td>\n",
       "      <td>RU</td>\n",
       "      <td>1/22/2022 12:32</td>\n",
       "      <td>56.1160</td>\n",
       "      <td>88.5240</td>\n",
       "      <td>255.30</td>\n",
       "      <td>98</td>\n",
       "      <td>89</td>\n",
       "      <td>1.82</td>\n",
       "    </tr>\n",
       "    <tr>\n",
       "      <th>4</th>\n",
       "      <td>4</td>\n",
       "      <td>Chimbote</td>\n",
       "      <td>PE</td>\n",
       "      <td>1/22/2022 12:32</td>\n",
       "      <td>-9.0853</td>\n",
       "      <td>-78.5783</td>\n",
       "      <td>294.90</td>\n",
       "      <td>81</td>\n",
       "      <td>9</td>\n",
       "      <td>1.82</td>\n",
       "    </tr>\n",
       "  </tbody>\n",
       "</table>\n",
       "</div>"
      ],
      "text/plain": [
       "   City_ID         City Country             Date      Lat       Lng  Max Temp  \\\n",
       "0        0       Narsaq      GL  1/22/2022 12:32  60.9167  -46.0500    261.27   \n",
       "1        1         Kaeo      NZ  1/22/2022 12:27 -35.1000  173.7833    289.44   \n",
       "2        2        Lujan      AR  1/22/2022 12:30 -34.5703  -59.1050    298.05   \n",
       "3        3  Tyazhinskiy      RU  1/22/2022 12:32  56.1160   88.5240    255.30   \n",
       "4        4     Chimbote      PE  1/22/2022 12:32  -9.0853  -78.5783    294.90   \n",
       "\n",
       "   Humidity  Cloudiness  Wind Speed  \n",
       "0        68           2        3.45  \n",
       "1        89          37        2.38  \n",
       "2        88          99        6.35  \n",
       "3        98          89        1.82  \n",
       "4        81           9        1.82  "
      ]
     },
     "execution_count": 2,
     "metadata": {},
     "output_type": "execute_result"
    }
   ],
   "source": [
    "# Read in the stored csv created in WeatherPy\n",
    "city_data_df = pd.read_csv(\"Weather_Data/cities.csv\")\n",
    "city_data_df.head()"
   ]
  },
  {
   "cell_type": "code",
   "execution_count": 3,
   "id": "3016b4e8",
   "metadata": {},
   "outputs": [
    {
     "data": {
      "text/plain": [
       "City_ID         int64\n",
       "City           object\n",
       "Country        object\n",
       "Date           object\n",
       "Lat           float64\n",
       "Lng           float64\n",
       "Max Temp      float64\n",
       "Humidity        int64\n",
       "Cloudiness      int64\n",
       "Wind Speed    float64\n",
       "dtype: object"
      ]
     },
     "execution_count": 3,
     "metadata": {},
     "output_type": "execute_result"
    }
   ],
   "source": [
    "# gmaps caveat: mapping data must be an integer or float\n",
    "\n",
    "# Check the data types\n",
    "city_data_df.dtypes"
   ]
  },
  {
   "cell_type": "code",
   "execution_count": 4,
   "id": "33813b21",
   "metadata": {},
   "outputs": [],
   "source": [
    "# Configure gmaps to use personal Google API key\n",
    "gmaps.configure(api_key=g_key)"
   ]
  },
  {
   "cell_type": "markdown",
   "id": "ee5cf515",
   "metadata": {},
   "source": [
    "### Maximum Temperature Heatmap"
   ]
  },
  {
   "cell_type": "code",
   "execution_count": 5,
   "id": "48414b2d",
   "metadata": {},
   "outputs": [
    {
     "data": {
      "application/vnd.jupyter.widget-view+json": {
       "model_id": "a3139be7f0d24f08b5a873cc191687e8",
       "version_major": 2,
       "version_minor": 0
      },
      "text/plain": [
       "Figure(layout=FigureLayout(height='420px'))"
      ]
     },
     "metadata": {},
     "output_type": "display_data"
    }
   ],
   "source": [
    "# Heatmap of temperature\n",
    "# Get the latitude and longitude.\n",
    "locations = city_data_df[[\"Lat\", \"Lng\"]]\n",
    "# Get the maximum temperature.\n",
    "max_temp = city_data_df[\"Max Temp\"]\n",
    "# Assign the figure variable.\n",
    "fig = gmaps.figure()\n",
    "# Assign the heatmap variable.\n",
    "heat_layer = gmaps.heatmap_layer(locations, weights=max_temp)\n",
    "# Add the heatmap layer.\n",
    "fig.add_layer(heat_layer)\n",
    "# Call the figure to plot the data.\n",
    "fig"
   ]
  },
  {
   "cell_type": "markdown",
   "id": "e807dcd4",
   "metadata": {},
   "source": [
    "Side Note (DID NOT OCCURE HERE): Google heatmaps do not plot negative numbers. If you have a maximum temperature that is less than 0 °F, then you will get an InvalidWeightException error for this line of code:  heat_layer = gmaps.heatmap_layer(locations, weights=max_temp)\n",
    "\n",
    "Can run a for loop if this occurs\n",
    "\n",
    "For loop iterates through max_temp and adds temperatures >0F to new list \\\n",
    "  Run this in new cell above previous code block (0 added in place of neg)\n",
    "\n",
    "#Get the maximum temperature. \\\n",
    "  max_temp = city_data_df[\"Max Temp\"] \\\n",
    "  temps = [] \\\n",
    "  for temp in max_temp: \\ temps.append(max(temp, 0))\n",
    "\n",
    "Then - in main code - change this:  heat_layer = gmaps.heatmap_layer(locations, weights=max_temp) \\\n",
    "to this: heat_layer = gmaps.heatmap_layer(locations, weights=temps) \\\n",
    "  Rerun the cell.\n",
    "  \n",
    "Alternatively, use list comprehension in place of a for loop: \\\n",
    "  heat_layer = gmaps.heatmap_layer(locations, weights=[max(temp, 0) for temp in max_temp])\n",
    "\n",
    "See notes for issues with pop-up messages.\n",
    "    \n"
   ]
  },
  {
   "cell_type": "markdown",
   "id": "31a2f2ca",
   "metadata": {},
   "source": [
    "#### Adjust zoom, intensity and point radius"
   ]
  },
  {
   "cell_type": "code",
   "execution_count": 6,
   "id": "473069cd",
   "metadata": {},
   "outputs": [
    {
     "data": {
      "application/vnd.jupyter.widget-view+json": {
       "model_id": "f2f264513f3d49669edc7e7b5424ea15",
       "version_major": 2,
       "version_minor": 0
      },
      "text/plain": [
       "Figure(layout=FigureLayout(height='420px'))"
      ]
     },
     "metadata": {},
     "output_type": "display_data"
    }
   ],
   "source": [
    "# Add Earth center - 30N, 31E and zoom to one map only; adjust as needed\n",
    "fig = gmaps.figure(center=(30.0, 31.0), zoom_level=1.5)\n",
    "fig"
   ]
  },
  {
   "cell_type": "code",
   "execution_count": 7,
   "id": "e73f59de",
   "metadata": {},
   "outputs": [
    {
     "data": {
      "application/vnd.jupyter.widget-view+json": {
       "model_id": "dd02c5f5c66f45659b3edee30c29696e",
       "version_major": 2,
       "version_minor": 0
      },
      "text/plain": [
       "Figure(layout=FigureLayout(height='420px'))"
      ]
     },
     "metadata": {},
     "output_type": "display_data"
    }
   ],
   "source": [
    "# Reviewing gmaps documentation, can see dissipation option (T = default),\n",
    "#   max_intensity (gradient variance), point_radius (change size)\n",
    "# Modify the map; may need further adjustments\n",
    "\n",
    "# Heatmap of temperature\n",
    "# Get the latitude and longitude.\n",
    "locations = city_data_df[[\"Lat\", \"Lng\"]]\n",
    "# Get the maximum temperature.\n",
    "max_temp = city_data_df[\"Max Temp\"]\n",
    "# Assign the figure variable.\n",
    "fig = gmaps.figure(center=(30.0, 31.0), zoom_level=1.5)\n",
    "# Assign the heatmap variable.\n",
    "heat_layer = gmaps.heatmap_layer(\n",
    "    locations, \n",
    "    weights=[max(temp, 0) for temp in max_temp], \n",
    "    dissipating=False, \n",
    "    max_intensity=300, \n",
    "    point_radius=2)                        \n",
    "# Add the heatmap layer.\n",
    "fig.add_layer(heat_layer)\n",
    "# Call the figure to plot the data.\n",
    "fig\n",
    "\n",
    "# NOTE: Changed point radius to 2"
   ]
  },
  {
   "cell_type": "markdown",
   "id": "12007c31",
   "metadata": {},
   "source": [
    "### Humidity Heatmap"
   ]
  },
  {
   "cell_type": "code",
   "execution_count": 8,
   "id": "0883f746",
   "metadata": {},
   "outputs": [
    {
     "data": {
      "application/vnd.jupyter.widget-view+json": {
       "model_id": "e6538656b73c485284179c9108ba0859",
       "version_major": 2,
       "version_minor": 0
      },
      "text/plain": [
       "Figure(layout=FigureLayout(height='420px'))"
      ]
     },
     "metadata": {},
     "output_type": "display_data"
    }
   ],
   "source": [
    "# Heatmap of percent humidity\n",
    "locations = city_data_df[[\"Lat\", \"Lng\"]]\n",
    "humidity = city_data_df[\"Humidity\"]\n",
    "fig = gmaps.figure(center=(30.0, 31.0), zoom_level=1.5)\n",
    "heat_layer = gmaps.heatmap_layer(\n",
    "    locations, weights=humidity,\n",
    "    dissipating=False, max_intensity=300, point_radius=2)\n",
    "\n",
    "fig.add_layer(heat_layer)\n",
    "# Call the figure to plot the data.\n",
    "fig"
   ]
  },
  {
   "cell_type": "markdown",
   "id": "01ca0116",
   "metadata": {},
   "source": [
    "### Cloudiness Heatmap"
   ]
  },
  {
   "cell_type": "code",
   "execution_count": 9,
   "id": "1d538ac2",
   "metadata": {},
   "outputs": [
    {
     "data": {
      "application/vnd.jupyter.widget-view+json": {
       "model_id": "1d1c4e57136242d78f64567644f5b407",
       "version_major": 2,
       "version_minor": 0
      },
      "text/plain": [
       "Figure(layout=FigureLayout(height='420px'))"
      ]
     },
     "metadata": {},
     "output_type": "display_data"
    }
   ],
   "source": [
    "# Heatmap of percent cloudy\n",
    "locations = city_data_df[[\"Lat\", \"Lng\"]]\n",
    "cloudy = city_data_df[\"Cloudiness\"]\n",
    "fig = gmaps.figure(center=(30.0, 31.0), zoom_level=1.5)\n",
    "heat_layer = gmaps.heatmap_layer(\n",
    "    locations, weights=cloudy,\n",
    "    dissipating=False, max_intensity=300, point_radius=2)\n",
    "\n",
    "fig.add_layer(heat_layer)\n",
    "# Call the figure to plot the data.\n",
    "fig"
   ]
  },
  {
   "cell_type": "markdown",
   "id": "927f19fd",
   "metadata": {},
   "source": [
    "### Wind Speed Heatmap"
   ]
  },
  {
   "cell_type": "code",
   "execution_count": 10,
   "id": "26ac6255",
   "metadata": {},
   "outputs": [
    {
     "data": {
      "application/vnd.jupyter.widget-view+json": {
       "model_id": "590b027821f445efa32de4d6da5a347f",
       "version_major": 2,
       "version_minor": 0
      },
      "text/plain": [
       "Figure(layout=FigureLayout(height='420px'))"
      ]
     },
     "metadata": {},
     "output_type": "display_data"
    }
   ],
   "source": [
    "# Heatmap of wind speed\n",
    "locations = city_data_df[[\"Lat\", \"Lng\"]]\n",
    "wind = city_data_df[\"Wind Speed\"]\n",
    "fig = gmaps.figure(center=(30.0, 31.0), zoom_level=1.5)\n",
    "heat_layer = gmaps.heatmap_layer(\n",
    "    locations, weights=wind,\n",
    "    dissipating=False, max_intensity=300, point_radius=4)\n",
    "\n",
    "fig.add_layer(heat_layer)\n",
    "# Call the figure to plot the data.\n",
    "fig"
   ]
  },
  {
   "cell_type": "markdown",
   "id": "c9f1bdfb",
   "metadata": {},
   "source": [
    "## Vacation Criteria"
   ]
  },
  {
   "cell_type": "code",
   "execution_count": 11,
   "id": "fb55c561",
   "metadata": {},
   "outputs": [
    {
     "name": "stdout",
     "output_type": "stream",
     "text": [
      "What is the minimum temperature you would like for your trip? 75\n",
      "What is the maximum temperature you would like for your trip? 90\n"
     ]
    }
   ],
   "source": [
    "# Create an opportunity for customers to decide a temperature range that appeals.\n",
    "#  In this instance, a range of 75 and 90 degress F is preferred.\n",
    "\n",
    "# Ask the customer to add a minimum and maximum temperature value.\n",
    "min_temp = float(input(\"What is the minimum temperature you would like for your trip? \"))\n",
    "max_temp = float(input(\"What is the maximum temperature you would like for your trip? \"))"
   ]
  },
  {
   "cell_type": "code",
   "execution_count": 12,
   "id": "0d70a58f",
   "metadata": {},
   "outputs": [
    {
     "data": {
      "text/html": [
       "<div>\n",
       "<style scoped>\n",
       "    .dataframe tbody tr th:only-of-type {\n",
       "        vertical-align: middle;\n",
       "    }\n",
       "\n",
       "    .dataframe tbody tr th {\n",
       "        vertical-align: top;\n",
       "    }\n",
       "\n",
       "    .dataframe thead th {\n",
       "        text-align: right;\n",
       "    }\n",
       "</style>\n",
       "<table border=\"1\" class=\"dataframe\">\n",
       "  <thead>\n",
       "    <tr style=\"text-align: right;\">\n",
       "      <th></th>\n",
       "      <th>City_ID</th>\n",
       "      <th>City</th>\n",
       "      <th>Country</th>\n",
       "      <th>Date</th>\n",
       "      <th>Lat</th>\n",
       "      <th>Lng</th>\n",
       "      <th>Max Temp</th>\n",
       "      <th>Humidity</th>\n",
       "      <th>Cloudiness</th>\n",
       "      <th>Wind Speed</th>\n",
       "    </tr>\n",
       "  </thead>\n",
       "  <tbody>\n",
       "  </tbody>\n",
       "</table>\n",
       "</div>"
      ],
      "text/plain": [
       "Empty DataFrame\n",
       "Columns: [City_ID, City, Country, Date, Lat, Lng, Max Temp, Humidity, Cloudiness, Wind Speed]\n",
       "Index: []"
      ]
     },
     "execution_count": 12,
     "metadata": {},
     "output_type": "execute_result"
    }
   ],
   "source": [
    "# Filter the dataset to find the cities that fit the criteria.\n",
    "preferred_cities_df = city_data_df.loc[(city_data_df[\"Max Temp\"] <= max_temp) & \n",
    "                                       (city_data_df[\"Max Temp\"] >= min_temp)]\n",
    "preferred_cities_df.head(10)"
   ]
  },
  {
   "cell_type": "markdown",
   "id": "6a0350f3",
   "metadata": {},
   "source": [
    "## NOTE: Formula above is based on Farenheit. Accessed temperatures are in Kelvin. Must convert for remaining code to work."
   ]
  },
  {
   "cell_type": "code",
   "execution_count": 13,
   "id": "8c67b175",
   "metadata": {},
   "outputs": [
    {
     "name": "stdout",
     "output_type": "stream",
     "text": [
      "297.03888888888895\n",
      "305.37222222222226\n"
     ]
    }
   ],
   "source": [
    "# What are 75 / 90 in Kelvin?\n",
    "min_temp_K = ((75 + 459.67)*5)/9\n",
    "max_temp_K = ((90 + 459.67)*5)/9\n",
    "\n",
    "print(min_temp_K)\n",
    "print(max_temp_K)"
   ]
  },
  {
   "cell_type": "code",
   "execution_count": 14,
   "id": "ff55c562",
   "metadata": {},
   "outputs": [
    {
     "data": {
      "text/html": [
       "<div>\n",
       "<style scoped>\n",
       "    .dataframe tbody tr th:only-of-type {\n",
       "        vertical-align: middle;\n",
       "    }\n",
       "\n",
       "    .dataframe tbody tr th {\n",
       "        vertical-align: top;\n",
       "    }\n",
       "\n",
       "    .dataframe thead th {\n",
       "        text-align: right;\n",
       "    }\n",
       "</style>\n",
       "<table border=\"1\" class=\"dataframe\">\n",
       "  <thead>\n",
       "    <tr style=\"text-align: right;\">\n",
       "      <th></th>\n",
       "      <th>City_ID</th>\n",
       "      <th>City</th>\n",
       "      <th>Country</th>\n",
       "      <th>Date</th>\n",
       "      <th>Lat</th>\n",
       "      <th>Lng</th>\n",
       "      <th>Max Temp</th>\n",
       "      <th>Humidity</th>\n",
       "      <th>Cloudiness</th>\n",
       "      <th>Wind Speed</th>\n",
       "    </tr>\n",
       "  </thead>\n",
       "  <tbody>\n",
       "    <tr>\n",
       "      <th>2</th>\n",
       "      <td>2</td>\n",
       "      <td>Lujan</td>\n",
       "      <td>AR</td>\n",
       "      <td>1/22/2022 12:30</td>\n",
       "      <td>-34.5703</td>\n",
       "      <td>-59.1050</td>\n",
       "      <td>298.05</td>\n",
       "      <td>88</td>\n",
       "      <td>99</td>\n",
       "      <td>6.35</td>\n",
       "    </tr>\n",
       "    <tr>\n",
       "      <th>6</th>\n",
       "      <td>6</td>\n",
       "      <td>Rikitea</td>\n",
       "      <td>PF</td>\n",
       "      <td>1/22/2022 12:27</td>\n",
       "      <td>-23.1203</td>\n",
       "      <td>-134.9692</td>\n",
       "      <td>298.77</td>\n",
       "      <td>68</td>\n",
       "      <td>87</td>\n",
       "      <td>4.79</td>\n",
       "    </tr>\n",
       "    <tr>\n",
       "      <th>9</th>\n",
       "      <td>9</td>\n",
       "      <td>Walvis Bay</td>\n",
       "      <td>NaN</td>\n",
       "      <td>1/22/2022 12:32</td>\n",
       "      <td>-22.9575</td>\n",
       "      <td>14.5053</td>\n",
       "      <td>299.68</td>\n",
       "      <td>61</td>\n",
       "      <td>40</td>\n",
       "      <td>4.12</td>\n",
       "    </tr>\n",
       "  </tbody>\n",
       "</table>\n",
       "</div>"
      ],
      "text/plain": [
       "   City_ID        City Country             Date      Lat       Lng  Max Temp  \\\n",
       "2        2       Lujan      AR  1/22/2022 12:30 -34.5703  -59.1050    298.05   \n",
       "6        6     Rikitea      PF  1/22/2022 12:27 -23.1203 -134.9692    298.77   \n",
       "9        9  Walvis Bay     NaN  1/22/2022 12:32 -22.9575   14.5053    299.68   \n",
       "\n",
       "   Humidity  Cloudiness  Wind Speed  \n",
       "2        88          99        6.35  \n",
       "6        68          87        4.79  \n",
       "9        61          40        4.12  "
      ]
     },
     "execution_count": 14,
     "metadata": {},
     "output_type": "execute_result"
    }
   ],
   "source": [
    "# Update the filter to the dataset for Kelvin\n",
    "preferred_cities_df = city_data_df.loc[(city_data_df[\"Max Temp\"] <= max_temp_K) & \n",
    "                                       (city_data_df[\"Max Temp\"] >= min_temp_K)]\n",
    "preferred_cities_df.head(3)"
   ]
  },
  {
   "cell_type": "markdown",
   "id": "405afcfd",
   "metadata": {},
   "source": [
    "Consider the following guidance:\n",
    "1. Depending on the time of year and the seasons, you might have to adjust the minimum and maximum temperature to get enough cities.\n",
    "2. It is a good idea to keep the number of cities to fewer than 200 to make it easier to plot the markers on the heatmap.\n",
    "3. If you have some rows with null values, you'll need to drop them using the dropna() method at the end of your filtering statement when you are creating the new DataFrame."
   ]
  },
  {
   "cell_type": "code",
   "execution_count": 15,
   "id": "8888a989",
   "metadata": {},
   "outputs": [
    {
     "data": {
      "text/plain": [
       "City_ID       177\n",
       "City          177\n",
       "Country       173\n",
       "Date          177\n",
       "Lat           177\n",
       "Lng           177\n",
       "Max Temp      177\n",
       "Humidity      177\n",
       "Cloudiness    177\n",
       "Wind Speed    177\n",
       "dtype: int64"
      ]
     },
     "execution_count": 15,
     "metadata": {},
     "output_type": "execute_result"
    }
   ],
   "source": [
    "# Determine if there are any null values; if so - drop.na()\n",
    "preferred_cities_df.count()"
   ]
  },
  {
   "cell_type": "code",
   "execution_count": 16,
   "id": "a9118dbb",
   "metadata": {},
   "outputs": [
    {
     "data": {
      "text/plain": [
       "City_ID       173\n",
       "City          173\n",
       "Country       173\n",
       "Date          173\n",
       "Lat           173\n",
       "Lng           173\n",
       "Max Temp      173\n",
       "Humidity      173\n",
       "Cloudiness    173\n",
       "Wind Speed    173\n",
       "dtype: int64"
      ]
     },
     "execution_count": 16,
     "metadata": {},
     "output_type": "execute_result"
    }
   ],
   "source": [
    "preferred_cities_df.dropna().count()"
   ]
  },
  {
   "cell_type": "markdown",
   "id": "d5439110",
   "metadata": {},
   "source": [
    "## Map Vacation Criteria"
   ]
  },
  {
   "cell_type": "code",
   "execution_count": 17,
   "id": "ba8bc72f",
   "metadata": {},
   "outputs": [
    {
     "data": {
      "text/html": [
       "<div>\n",
       "<style scoped>\n",
       "    .dataframe tbody tr th:only-of-type {\n",
       "        vertical-align: middle;\n",
       "    }\n",
       "\n",
       "    .dataframe tbody tr th {\n",
       "        vertical-align: top;\n",
       "    }\n",
       "\n",
       "    .dataframe thead th {\n",
       "        text-align: right;\n",
       "    }\n",
       "</style>\n",
       "<table border=\"1\" class=\"dataframe\">\n",
       "  <thead>\n",
       "    <tr style=\"text-align: right;\">\n",
       "      <th></th>\n",
       "      <th>City</th>\n",
       "      <th>Country</th>\n",
       "      <th>Max Temp</th>\n",
       "      <th>Lat</th>\n",
       "      <th>Lng</th>\n",
       "      <th>Hotel Name</th>\n",
       "    </tr>\n",
       "  </thead>\n",
       "  <tbody>\n",
       "    <tr>\n",
       "      <th>2</th>\n",
       "      <td>Lujan</td>\n",
       "      <td>AR</td>\n",
       "      <td>298.05</td>\n",
       "      <td>-34.5703</td>\n",
       "      <td>-59.1050</td>\n",
       "      <td></td>\n",
       "    </tr>\n",
       "    <tr>\n",
       "      <th>6</th>\n",
       "      <td>Rikitea</td>\n",
       "      <td>PF</td>\n",
       "      <td>298.77</td>\n",
       "      <td>-23.1203</td>\n",
       "      <td>-134.9692</td>\n",
       "      <td></td>\n",
       "    </tr>\n",
       "    <tr>\n",
       "      <th>9</th>\n",
       "      <td>Walvis Bay</td>\n",
       "      <td>NaN</td>\n",
       "      <td>299.68</td>\n",
       "      <td>-22.9575</td>\n",
       "      <td>14.5053</td>\n",
       "      <td></td>\n",
       "    </tr>\n",
       "    <tr>\n",
       "      <th>12</th>\n",
       "      <td>Sorong</td>\n",
       "      <td>ID</td>\n",
       "      <td>300.11</td>\n",
       "      <td>-0.8833</td>\n",
       "      <td>131.2500</td>\n",
       "      <td></td>\n",
       "    </tr>\n",
       "    <tr>\n",
       "      <th>13</th>\n",
       "      <td>Adrar</td>\n",
       "      <td>MR</td>\n",
       "      <td>297.69</td>\n",
       "      <td>20.5022</td>\n",
       "      <td>-10.0711</td>\n",
       "      <td></td>\n",
       "    </tr>\n",
       "    <tr>\n",
       "      <th>17</th>\n",
       "      <td>Port Alfred</td>\n",
       "      <td>ZA</td>\n",
       "      <td>300.06</td>\n",
       "      <td>-33.5906</td>\n",
       "      <td>26.8910</td>\n",
       "      <td></td>\n",
       "    </tr>\n",
       "    <tr>\n",
       "      <th>18</th>\n",
       "      <td>Atuona</td>\n",
       "      <td>PF</td>\n",
       "      <td>298.75</td>\n",
       "      <td>-9.8000</td>\n",
       "      <td>-139.0333</td>\n",
       "      <td></td>\n",
       "    </tr>\n",
       "    <tr>\n",
       "      <th>19</th>\n",
       "      <td>Boyolangu</td>\n",
       "      <td>ID</td>\n",
       "      <td>298.07</td>\n",
       "      <td>-8.1181</td>\n",
       "      <td>111.8935</td>\n",
       "      <td></td>\n",
       "    </tr>\n",
       "    <tr>\n",
       "      <th>20</th>\n",
       "      <td>Vaini</td>\n",
       "      <td>TO</td>\n",
       "      <td>299.24</td>\n",
       "      <td>-21.2000</td>\n",
       "      <td>-175.2000</td>\n",
       "      <td></td>\n",
       "    </tr>\n",
       "    <tr>\n",
       "      <th>21</th>\n",
       "      <td>Georgetown</td>\n",
       "      <td>MY</td>\n",
       "      <td>303.12</td>\n",
       "      <td>5.4112</td>\n",
       "      <td>100.3354</td>\n",
       "      <td></td>\n",
       "    </tr>\n",
       "  </tbody>\n",
       "</table>\n",
       "</div>"
      ],
      "text/plain": [
       "           City Country  Max Temp      Lat       Lng Hotel Name\n",
       "2         Lujan      AR    298.05 -34.5703  -59.1050           \n",
       "6       Rikitea      PF    298.77 -23.1203 -134.9692           \n",
       "9    Walvis Bay     NaN    299.68 -22.9575   14.5053           \n",
       "12       Sorong      ID    300.11  -0.8833  131.2500           \n",
       "13        Adrar      MR    297.69  20.5022  -10.0711           \n",
       "17  Port Alfred      ZA    300.06 -33.5906   26.8910           \n",
       "18       Atuona      PF    298.75  -9.8000 -139.0333           \n",
       "19    Boyolangu      ID    298.07  -8.1181  111.8935           \n",
       "20        Vaini      TO    299.24 -21.2000 -175.2000           \n",
       "21   Georgetown      MY    303.12   5.4112  100.3354           "
      ]
     },
     "execution_count": 17,
     "metadata": {},
     "output_type": "execute_result"
    }
   ],
   "source": [
    "# Get travel destinations ... create a df to store hotel names + additional information\n",
    "hotel_df = preferred_cities_df[[\"City\", \"Country\", \"Max Temp\", \"Lat\", \"Lng\"]].copy()\n",
    "hotel_df[\"Hotel Name\"] = \"\"\n",
    "hotel_df.head(10)\n",
    "\n",
    "# Note \"Hotel Name\" is currently empty."
   ]
  },
  {
   "cell_type": "markdown",
   "id": "8d9146bc",
   "metadata": {},
   "source": [
    "#### Hotels: [Nearby Search](https://developers.google.com/maps/documentation/places/web-service/search#PlaceSearchRequests%0D%0A) and [Place Types](https://developers.google.com/maps/documentation/places/web-service/supported_types) with [Python Requests Library](https://requests.kennethreitz.org/en/master/)"
   ]
  },
  {
   "cell_type": "code",
   "execution_count": 18,
   "id": "8d15ed09",
   "metadata": {},
   "outputs": [],
   "source": [
    "# Use Google Places Nearby Search to retrieve hotel information\n",
    "# Set search parameters (not using rankby=distance)\n",
    "# Retrieve in JSON format (https://maps.googleapis.com/maps/api/place/nearbysearch/json)\n",
    "# Provide arguments\n",
    "\n",
    "# Set parameters to search for a hotel.\n",
    "params = {\n",
    "    \"radius\": 5000,              #5K meter radius is ~31 miles\n",
    "    \"type\": \"lodging\",\n",
    "    \"key\": g_key\n",
    "}"
   ]
  },
  {
   "cell_type": "code",
   "execution_count": 19,
   "id": "fd3dcc6b",
   "metadata": {},
   "outputs": [],
   "source": [
    "# RUN IF NEEDED\n",
    "# Dependencies and Setup\n",
    "#import requests\n",
    "#import gmaps\n",
    "\n",
    "# Import API key\n",
    "#from config import g_key"
   ]
  },
  {
   "cell_type": "code",
   "execution_count": 20,
   "id": "eaaf6a56",
   "metadata": {},
   "outputs": [
    {
     "name": "stdout",
     "output_type": "stream",
     "text": [
      "Hotel not found... skipping.\n",
      "Hotel not found... skipping.\n",
      "Hotel not found... skipping.\n",
      "Hotel not found... skipping.\n",
      "Hotel not found... skipping.\n",
      "Hotel not found... skipping.\n",
      "Hotel not found... skipping.\n",
      "Hotel not found... skipping.\n",
      "Hotel not found... skipping.\n",
      "Hotel not found... skipping.\n",
      "Hotel not found... skipping.\n",
      "Hotel not found... skipping.\n",
      "-----------------------------\n",
      "Data Retrieval Complete      \n",
      "-----------------------------\n"
     ]
    }
   ],
   "source": [
    "# Iterate through the DataFrame.\n",
    "for index, row in hotel_df.iterrows():\n",
    "    # Get the latitude and longitude.\n",
    "    lat = row[\"Lat\"]\n",
    "    lng = row[\"Lng\"]\n",
    "\n",
    "    # Add the latitude and longitude to location key for the params dictionary.\n",
    "    params[\"location\"] = f\"{lat},{lng}\"\n",
    "\n",
    "    # Use the search term: \"lodging\" and our latitude and longitude.\n",
    "    base_url = \"https://maps.googleapis.com/maps/api/place/nearbysearch/json\"\n",
    "    # Make request and get the JSON data from the search.\n",
    "    hotels = requests.get(base_url, params=params).json()\n",
    "    # Grab the first hotel from the results and store the name.\n",
    "    try:\n",
    "        hotel_df.loc[index, \"Hotel Name\"] = hotels[\"results\"][0][\"name\"]\n",
    "    except (IndexError):\n",
    "        print(\"Hotel not found... skipping.\")\n",
    "\n",
    "# Indicate that Data Loading is complete.\n",
    "print(\"-----------------------------\")\n",
    "print(\"Data Retrieval Complete      \")\n",
    "print(\"-----------------------------\")"
   ]
  },
  {
   "cell_type": "code",
   "execution_count": 21,
   "id": "9ec9ff92",
   "metadata": {},
   "outputs": [
    {
     "data": {
      "text/html": [
       "<div>\n",
       "<style scoped>\n",
       "    .dataframe tbody tr th:only-of-type {\n",
       "        vertical-align: middle;\n",
       "    }\n",
       "\n",
       "    .dataframe tbody tr th {\n",
       "        vertical-align: top;\n",
       "    }\n",
       "\n",
       "    .dataframe thead th {\n",
       "        text-align: right;\n",
       "    }\n",
       "</style>\n",
       "<table border=\"1\" class=\"dataframe\">\n",
       "  <thead>\n",
       "    <tr style=\"text-align: right;\">\n",
       "      <th></th>\n",
       "      <th>City</th>\n",
       "      <th>Country</th>\n",
       "      <th>Max Temp</th>\n",
       "      <th>Lat</th>\n",
       "      <th>Lng</th>\n",
       "      <th>Hotel Name</th>\n",
       "    </tr>\n",
       "  </thead>\n",
       "  <tbody>\n",
       "    <tr>\n",
       "      <th>2</th>\n",
       "      <td>Lujan</td>\n",
       "      <td>AR</td>\n",
       "      <td>298.05</td>\n",
       "      <td>-34.5703</td>\n",
       "      <td>-59.1050</td>\n",
       "      <td>Hotel Biarritz</td>\n",
       "    </tr>\n",
       "    <tr>\n",
       "      <th>6</th>\n",
       "      <td>Rikitea</td>\n",
       "      <td>PF</td>\n",
       "      <td>298.77</td>\n",
       "      <td>-23.1203</td>\n",
       "      <td>-134.9692</td>\n",
       "      <td>People ThankYou</td>\n",
       "    </tr>\n",
       "    <tr>\n",
       "      <th>9</th>\n",
       "      <td>Walvis Bay</td>\n",
       "      <td>NaN</td>\n",
       "      <td>299.68</td>\n",
       "      <td>-22.9575</td>\n",
       "      <td>14.5053</td>\n",
       "      <td>Oyster Box Guesthouse</td>\n",
       "    </tr>\n",
       "  </tbody>\n",
       "</table>\n",
       "</div>"
      ],
      "text/plain": [
       "         City Country  Max Temp      Lat       Lng             Hotel Name\n",
       "2       Lujan      AR    298.05 -34.5703  -59.1050         Hotel Biarritz\n",
       "6     Rikitea      PF    298.77 -23.1203 -134.9692        People ThankYou\n",
       "9  Walvis Bay     NaN    299.68 -22.9575   14.5053  Oyster Box Guesthouse"
      ]
     },
     "execution_count": 21,
     "metadata": {},
     "output_type": "execute_result"
    }
   ],
   "source": [
    "hotel_df.head(3)"
   ]
  },
  {
   "cell_type": "code",
   "execution_count": 22,
   "id": "4b2f7740",
   "metadata": {},
   "outputs": [
    {
     "data": {
      "text/plain": [
       "City          173\n",
       "Country       173\n",
       "Max Temp      173\n",
       "Lat           173\n",
       "Lng           173\n",
       "Hotel Name    173\n",
       "dtype: int64"
      ]
     },
     "execution_count": 22,
     "metadata": {},
     "output_type": "execute_result"
    }
   ],
   "source": [
    "hotel_df.dropna().count()"
   ]
  },
  {
   "cell_type": "markdown",
   "id": "e0643187",
   "metadata": {},
   "source": [
    "#### Add Pop-Up Markers with Hotel Info to Heat Map"
   ]
  },
  {
   "cell_type": "code",
   "execution_count": 23,
   "id": "5d29f286",
   "metadata": {},
   "outputs": [
    {
     "data": {
      "application/vnd.jupyter.widget-view+json": {
       "model_id": "9a4d34466f4f4e9db798c644b1354ef4",
       "version_major": 2,
       "version_minor": 0
      },
      "text/plain": [
       "Figure(layout=FigureLayout(height='420px'))"
      ]
     },
     "metadata": {},
     "output_type": "display_data"
    }
   ],
   "source": [
    "# Add a heatmap of temperature for the vacation spots.\n",
    "locations = hotel_df[[\"Lat\", \"Lng\"]]\n",
    "max_temp = hotel_df[\"Max Temp\"]\n",
    "fig = gmaps.figure(center=(30.0, 31.0), zoom_level=1.5)\n",
    "heat_layer = gmaps.heatmap_layer(locations, weights=max_temp, dissipating=False,\n",
    "             max_intensity=300, point_radius=2)\n",
    "\n",
    "fig.add_layer(heat_layer)\n",
    "# Call the figure to plot the data.\n",
    "fig"
   ]
  },
  {
   "cell_type": "code",
   "execution_count": 24,
   "id": "d5031b07",
   "metadata": {},
   "outputs": [
    {
     "data": {
      "application/vnd.jupyter.widget-view+json": {
       "model_id": "07d1fff847b744dfbcd66f4d563c084c",
       "version_major": 2,
       "version_minor": 0
      },
      "text/plain": [
       "Figure(layout=FigureLayout(height='420px'))"
      ]
     },
     "metadata": {},
     "output_type": "display_data"
    }
   ],
   "source": [
    "# Add a heatmap of temperature for the vacation spots and marker for each city.\n",
    "locations = hotel_df[[\"Lat\", \"Lng\"]]\n",
    "max_temp = hotel_df[\"Max Temp\"]\n",
    "fig = gmaps.figure(center=(30.0, 31.0), zoom_level=1.5)\n",
    "heat_layer = gmaps.heatmap_layer(locations, weights=max_temp,\n",
    "             dissipating=False, max_intensity=300, point_radius=2)\n",
    "marker_layer = gmaps.marker_layer(locations)\n",
    "fig.add_layer(heat_layer)\n",
    "fig.add_layer(marker_layer)\n",
    "# Call the figure to plot the data.\n",
    "fig"
   ]
  },
  {
   "cell_type": "markdown",
   "id": "d1b3230a",
   "metadata": {},
   "source": [
    "#### Create an information box template and store data"
   ]
  },
  {
   "cell_type": "code",
   "execution_count": 25,
   "id": "67d0400c",
   "metadata": {},
   "outputs": [],
   "source": [
    "info_box_template = \"\"\"\n",
    "<dl>\n",
    "<dt>Hotel Name</dt><dd>{Hotel Name}</dd>\n",
    "<dt>City</dt><dd>{City}</dd>\n",
    "<dt>Country</dt><dd>{Country}</dd>\n",
    "<dt>Max Temp</dt><dd>{Max Temp} °F</dd>\n",
    "</dl>\n",
    "\"\"\""
   ]
  },
  {
   "cell_type": "code",
   "execution_count": 26,
   "id": "6c3cf7ce",
   "metadata": {},
   "outputs": [],
   "source": [
    "# Store the DataFrame Row.\n",
    "hotel_info = [info_box_template.format(**row) for index, row in hotel_df.iterrows()]"
   ]
  },
  {
   "cell_type": "markdown",
   "id": "715ca8f4",
   "metadata": {},
   "source": [
    "#### Produce the Final Product"
   ]
  },
  {
   "cell_type": "code",
   "execution_count": 27,
   "id": "fea9dd47",
   "metadata": {},
   "outputs": [
    {
     "data": {
      "application/vnd.jupyter.widget-view+json": {
       "model_id": "8fe2a5e8779d4af593a5b60fe193e1e8",
       "version_major": 2,
       "version_minor": 0
      },
      "text/plain": [
       "Figure(layout=FigureLayout(height='420px'))"
      ]
     },
     "metadata": {},
     "output_type": "display_data"
    }
   ],
   "source": [
    "# Add a heatmap of temperature for the vacation spots and a pop-up marker for each city.\n",
    "locations = hotel_df[[\"Lat\", \"Lng\"]]\n",
    "max_temp = hotel_df[\"Max Temp\"]\n",
    "fig = gmaps.figure(center=(30.0, 31.0), zoom_level=1.5)\n",
    "heat_layer = gmaps.heatmap_layer(locations, weights=max_temp,dissipating=False,\n",
    "             max_intensity=300, point_radius=4)\n",
    "marker_layer = gmaps.marker_layer(locations, info_box_content=hotel_info)\n",
    "fig.add_layer(heat_layer)\n",
    "fig.add_layer(marker_layer)\n",
    "\n",
    "# Call the figure to plot the data.\n",
    "fig"
   ]
  },
  {
   "cell_type": "markdown",
   "id": "0b6d3d30",
   "metadata": {},
   "source": [
    "### Challenge Note: update url to include \"units=Imperial&\" for Farenheit"
   ]
  }
 ],
 "metadata": {
  "kernelspec": {
   "display_name": "PythonData",
   "language": "python",
   "name": "pythondata"
  },
  "language_info": {
   "codemirror_mode": {
    "name": "ipython",
    "version": 3
   },
   "file_extension": ".py",
   "mimetype": "text/x-python",
   "name": "python",
   "nbconvert_exporter": "python",
   "pygments_lexer": "ipython3",
   "version": "3.7.11"
  }
 },
 "nbformat": 4,
 "nbformat_minor": 5
}
